{
 "cells": [
  {
   "cell_type": "markdown",
   "metadata": {},
   "source": [
    "# 주식등락예측하기 (머신러닝) 4.29\n",
    "\n",
    "단순히 과거의 데이터들로 학습을 하여 그날의 데이터로 다음날의 주가는 상승할 것인지 하락할 것인지를 맞추는 경우입니다."
   ]
  },
  {
   "cell_type": "markdown",
   "metadata": {},
   "source": [
    "## 1. 네이버 금융에서 주식데이터 가져오기"
   ]
  },
  {
   "cell_type": "code",
   "execution_count": 1,
   "metadata": {},
   "outputs": [],
   "source": [
    "# 기본적으로 필요한 라이브러리\n",
    "import numpy as np\n",
    "import pandas as pd\n",
    "\n",
    "import timeit #데이터를 가져오는 데 얼마나 시간이 걸리는지 확인하기 위한 라이브러리"
   ]
  },
  {
   "cell_type": "markdown",
   "metadata": {},
   "source": [
    "### 1.1 원하는 회사의 상장코드 가져오기"
   ]
  },
  {
   "cell_type": "code",
   "execution_count": 2,
   "metadata": {},
   "outputs": [
    {
     "name": "stdout",
     "output_type": "stream",
     "text": [
      "진에어 stock url : http://finance.naver.com/item/sise_day.nhn?code=272450\n"
     ]
    }
   ],
   "source": [
    "#KRX 한국 거래소에 상장되어있는 회사들의 데이터를 가져온다.\n",
    "#홈페이지에서 바로 가져오므로, 데이터가 최신일것임.\n",
    "listing = pd.read_html('http://kind.krx.co.kr/corpgeneral/corpList.do?method=download&searchType=13', header=0)[0]\n",
    "\n",
    "#종목코드는 6자리이므로 6자리로 맞춰준다.\n",
    "#필요한 것은 회사명과 종목코드이기 때문에 필요 없는 column들은 제외해준다.\n",
    "listing['종목코드'] = listing['종목코드'].map('{:06d}'.format)\n",
    "listing = listing[['회사명', '종목코드']]\n",
    "\n",
    "#한글로된 컬럼명을 영어로 바꿔준다.\n",
    "#외부라이브러리들 때문에 왠만하면 한글 데이터는 영어로 바꿔주는 것이 좋음.\n",
    "listing = listing.rename(columns={'회사명':'name', '종목코드':'code'})\n",
    "\n",
    "# 원하는 종목의 코드를 가져오는 함수\n",
    "def get_url(item_name, data):\n",
    "    code = data[data['name'] == item_name]['code']\n",
    "    url = ('http://finance.naver.com/item/sise_day.nhn?code=' + code.iloc[0])\n",
    "    return url\n",
    "\n",
    "company = '진에어'\n",
    "url = get_url(company, listing)\n",
    "print('{} stock url : {}'.format(company, url))"
   ]
  },
  {
   "cell_type": "markdown",
   "metadata": {},
   "source": [
    "### 1.2 원하는 페이지까지 데이터 가져오기"
   ]
  },
  {
   "cell_type": "code",
   "execution_count": 3,
   "metadata": {},
   "outputs": [
    {
     "name": "stdout",
     "output_type": "stream",
     "text": [
      "63.755416334808565\n"
     ]
    }
   ],
   "source": [
    "#일자 데이터를 담을 stock이라는 DataFrame 정의\n",
    "stock = pd.DataFrame()\n",
    "\n",
    "# 1페이지에서 원하는 페이지까지 가져오기\n",
    "# 1페이지당 10개의 데이터가 존재\n",
    "import timeit\n",
    "start = timeit.default_timer() # 시간이 얼마나 걸리는지 시작.\n",
    "\n",
    "for page in range(1, 401):\n",
    "    pg_url = '{url}&page={page}'.format(url=url, page=page)\n",
    "    stock = stock.append(pd.read_html(pg_url, header=0)[0], ignore_index=True)\n",
    "\n",
    "stock = stock.dropna()\n",
    "\n",
    "stop = timeit.default_timer()\n",
    "print(stop - start)"
   ]
  },
  {
   "cell_type": "code",
   "execution_count": 4,
   "metadata": {
    "scrolled": true
   },
   "outputs": [
    {
     "data": {
      "text/html": [
       "<div>\n",
       "<style scoped>\n",
       "    .dataframe tbody tr th:only-of-type {\n",
       "        vertical-align: middle;\n",
       "    }\n",
       "\n",
       "    .dataframe tbody tr th {\n",
       "        vertical-align: top;\n",
       "    }\n",
       "\n",
       "    .dataframe thead th {\n",
       "        text-align: right;\n",
       "    }\n",
       "</style>\n",
       "<table border=\"1\" class=\"dataframe\">\n",
       "  <thead>\n",
       "    <tr style=\"text-align: right;\">\n",
       "      <th></th>\n",
       "      <th>날짜</th>\n",
       "      <th>종가</th>\n",
       "      <th>전일비</th>\n",
       "      <th>시가</th>\n",
       "      <th>고가</th>\n",
       "      <th>저가</th>\n",
       "      <th>거래량</th>\n",
       "    </tr>\n",
       "  </thead>\n",
       "  <tbody>\n",
       "    <tr>\n",
       "      <th>5997</th>\n",
       "      <td>2017.12.08</td>\n",
       "      <td>28850.0</td>\n",
       "      <td>200.0</td>\n",
       "      <td>28650.0</td>\n",
       "      <td>29600.0</td>\n",
       "      <td>26000.0</td>\n",
       "      <td>7793658.0</td>\n",
       "    </tr>\n",
       "    <tr>\n",
       "      <th>1737</th>\n",
       "      <td>2017.12.08</td>\n",
       "      <td>28850.0</td>\n",
       "      <td>200.0</td>\n",
       "      <td>28650.0</td>\n",
       "      <td>29600.0</td>\n",
       "      <td>26000.0</td>\n",
       "      <td>7793658.0</td>\n",
       "    </tr>\n",
       "    <tr>\n",
       "      <th>1752</th>\n",
       "      <td>2017.12.08</td>\n",
       "      <td>28850.0</td>\n",
       "      <td>200.0</td>\n",
       "      <td>28650.0</td>\n",
       "      <td>29600.0</td>\n",
       "      <td>26000.0</td>\n",
       "      <td>7793658.0</td>\n",
       "    </tr>\n",
       "    <tr>\n",
       "      <th>1767</th>\n",
       "      <td>2017.12.08</td>\n",
       "      <td>28850.0</td>\n",
       "      <td>200.0</td>\n",
       "      <td>28650.0</td>\n",
       "      <td>29600.0</td>\n",
       "      <td>26000.0</td>\n",
       "      <td>7793658.0</td>\n",
       "    </tr>\n",
       "    <tr>\n",
       "      <th>1782</th>\n",
       "      <td>2017.12.08</td>\n",
       "      <td>28850.0</td>\n",
       "      <td>200.0</td>\n",
       "      <td>28650.0</td>\n",
       "      <td>29600.0</td>\n",
       "      <td>26000.0</td>\n",
       "      <td>7793658.0</td>\n",
       "    </tr>\n",
       "  </tbody>\n",
       "</table>\n",
       "</div>"
      ],
      "text/plain": [
       "              날짜       종가    전일비       시가       고가       저가        거래량\n",
       "5997  2017.12.08  28850.0  200.0  28650.0  29600.0  26000.0  7793658.0\n",
       "1737  2017.12.08  28850.0  200.0  28650.0  29600.0  26000.0  7793658.0\n",
       "1752  2017.12.08  28850.0  200.0  28650.0  29600.0  26000.0  7793658.0\n",
       "1767  2017.12.08  28850.0  200.0  28650.0  29600.0  26000.0  7793658.0\n",
       "1782  2017.12.08  28850.0  200.0  28650.0  29600.0  26000.0  7793658.0"
      ]
     },
     "execution_count": 4,
     "metadata": {},
     "output_type": "execute_result"
    }
   ],
   "source": [
    "stock_data = stock.sort_values(by=['날짜']) #오래된 순으로 다시 재정렬\n",
    "stock_data.head()"
   ]
  },
  {
   "cell_type": "markdown",
   "metadata": {},
   "source": [
    "## 2. 머신러닝 준비하기"
   ]
  },
  {
   "cell_type": "markdown",
   "metadata": {},
   "source": [
    "데이터의 칼럼을 영어로 바꿔준다."
   ]
  },
  {
   "cell_type": "code",
   "execution_count": 5,
   "metadata": {},
   "outputs": [],
   "source": [
    "stock_data.columns = ['date', 'close', 'diff' , 'start', 'high' ,'low', 'volume']\n",
    "stock_data = stock_data.set_index('date')"
   ]
  },
  {
   "cell_type": "markdown",
   "metadata": {},
   "source": [
    "등락을 예측하기위해 등락 칼럼을 만들어 준다."
   ]
  },
  {
   "cell_type": "code",
   "execution_count": 6,
   "metadata": {},
   "outputs": [
    {
     "data": {
      "text/html": [
       "<div>\n",
       "<style scoped>\n",
       "    .dataframe tbody tr th:only-of-type {\n",
       "        vertical-align: middle;\n",
       "    }\n",
       "\n",
       "    .dataframe tbody tr th {\n",
       "        vertical-align: top;\n",
       "    }\n",
       "\n",
       "    .dataframe thead th {\n",
       "        text-align: right;\n",
       "    }\n",
       "</style>\n",
       "<table border=\"1\" class=\"dataframe\">\n",
       "  <thead>\n",
       "    <tr style=\"text-align: right;\">\n",
       "      <th></th>\n",
       "      <th>close</th>\n",
       "      <th>diff</th>\n",
       "      <th>start</th>\n",
       "      <th>high</th>\n",
       "      <th>low</th>\n",
       "      <th>volume</th>\n",
       "    </tr>\n",
       "  </thead>\n",
       "  <tbody>\n",
       "    <tr>\n",
       "      <th>count</th>\n",
       "      <td>3633.000000</td>\n",
       "      <td>3633.000000</td>\n",
       "      <td>3633.000000</td>\n",
       "      <td>3633.000000</td>\n",
       "      <td>3633.000000</td>\n",
       "      <td>3.633000e+03</td>\n",
       "    </tr>\n",
       "    <tr>\n",
       "      <th>mean</th>\n",
       "      <td>26796.917148</td>\n",
       "      <td>591.866226</td>\n",
       "      <td>27009.234792</td>\n",
       "      <td>27453.660886</td>\n",
       "      <td>26134.227911</td>\n",
       "      <td>1.288864e+06</td>\n",
       "    </tr>\n",
       "    <tr>\n",
       "      <th>std</th>\n",
       "      <td>1745.072553</td>\n",
       "      <td>612.377414</td>\n",
       "      <td>1773.700250</td>\n",
       "      <td>1826.539791</td>\n",
       "      <td>1582.321739</td>\n",
       "      <td>2.232102e+06</td>\n",
       "    </tr>\n",
       "    <tr>\n",
       "      <th>min</th>\n",
       "      <td>17000.000000</td>\n",
       "      <td>0.000000</td>\n",
       "      <td>16500.000000</td>\n",
       "      <td>17450.000000</td>\n",
       "      <td>16500.000000</td>\n",
       "      <td>3.910100e+04</td>\n",
       "    </tr>\n",
       "    <tr>\n",
       "      <th>25%</th>\n",
       "      <td>26300.000000</td>\n",
       "      <td>300.000000</td>\n",
       "      <td>26400.000000</td>\n",
       "      <td>27000.000000</td>\n",
       "      <td>26000.000000</td>\n",
       "      <td>2.107500e+05</td>\n",
       "    </tr>\n",
       "    <tr>\n",
       "      <th>50%</th>\n",
       "      <td>26850.000000</td>\n",
       "      <td>350.000000</td>\n",
       "      <td>27000.000000</td>\n",
       "      <td>27300.000000</td>\n",
       "      <td>26150.000000</td>\n",
       "      <td>5.228570e+05</td>\n",
       "    </tr>\n",
       "    <tr>\n",
       "      <th>75%</th>\n",
       "      <td>27150.000000</td>\n",
       "      <td>550.000000</td>\n",
       "      <td>27550.000000</td>\n",
       "      <td>27700.000000</td>\n",
       "      <td>26600.000000</td>\n",
       "      <td>8.373450e+05</td>\n",
       "    </tr>\n",
       "    <tr>\n",
       "      <th>max</th>\n",
       "      <td>33800.000000</td>\n",
       "      <td>3000.000000</td>\n",
       "      <td>33850.000000</td>\n",
       "      <td>34300.000000</td>\n",
       "      <td>32650.000000</td>\n",
       "      <td>7.793658e+06</td>\n",
       "    </tr>\n",
       "  </tbody>\n",
       "</table>\n",
       "</div>"
      ],
      "text/plain": [
       "              close         diff         start          high           low  \\\n",
       "count   3633.000000  3633.000000   3633.000000   3633.000000   3633.000000   \n",
       "mean   26796.917148   591.866226  27009.234792  27453.660886  26134.227911   \n",
       "std     1745.072553   612.377414   1773.700250   1826.539791   1582.321739   \n",
       "min    17000.000000     0.000000  16500.000000  17450.000000  16500.000000   \n",
       "25%    26300.000000   300.000000  26400.000000  27000.000000  26000.000000   \n",
       "50%    26850.000000   350.000000  27000.000000  27300.000000  26150.000000   \n",
       "75%    27150.000000   550.000000  27550.000000  27700.000000  26600.000000   \n",
       "max    33800.000000  3000.000000  33850.000000  34300.000000  32650.000000   \n",
       "\n",
       "             volume  \n",
       "count  3.633000e+03  \n",
       "mean   1.288864e+06  \n",
       "std    2.232102e+06  \n",
       "min    3.910100e+04  \n",
       "25%    2.107500e+05  \n",
       "50%    5.228570e+05  \n",
       "75%    8.373450e+05  \n",
       "max    7.793658e+06  "
      ]
     },
     "execution_count": 6,
     "metadata": {},
     "output_type": "execute_result"
    }
   ],
   "source": [
    "stock_data.describe()"
   ]
  },
  {
   "cell_type": "code",
   "execution_count": 7,
   "metadata": {},
   "outputs": [
    {
     "data": {
      "text/html": [
       "<div>\n",
       "<style scoped>\n",
       "    .dataframe tbody tr th:only-of-type {\n",
       "        vertical-align: middle;\n",
       "    }\n",
       "\n",
       "    .dataframe tbody tr th {\n",
       "        vertical-align: top;\n",
       "    }\n",
       "\n",
       "    .dataframe thead th {\n",
       "        text-align: right;\n",
       "    }\n",
       "</style>\n",
       "<table border=\"1\" class=\"dataframe\">\n",
       "  <thead>\n",
       "    <tr style=\"text-align: right;\">\n",
       "      <th></th>\n",
       "      <th>close</th>\n",
       "      <th>diff</th>\n",
       "      <th>start</th>\n",
       "      <th>high</th>\n",
       "      <th>low</th>\n",
       "      <th>volume</th>\n",
       "    </tr>\n",
       "    <tr>\n",
       "      <th>date</th>\n",
       "      <th></th>\n",
       "      <th></th>\n",
       "      <th></th>\n",
       "      <th></th>\n",
       "      <th></th>\n",
       "      <th></th>\n",
       "    </tr>\n",
       "  </thead>\n",
       "  <tbody>\n",
       "    <tr>\n",
       "      <th>2017.12.08</th>\n",
       "      <td>28850.0</td>\n",
       "      <td>1</td>\n",
       "      <td>28650.0</td>\n",
       "      <td>29600.0</td>\n",
       "      <td>26000.0</td>\n",
       "      <td>7793658.0</td>\n",
       "    </tr>\n",
       "    <tr>\n",
       "      <th>2017.12.08</th>\n",
       "      <td>28850.0</td>\n",
       "      <td>1</td>\n",
       "      <td>28650.0</td>\n",
       "      <td>29600.0</td>\n",
       "      <td>26000.0</td>\n",
       "      <td>7793658.0</td>\n",
       "    </tr>\n",
       "    <tr>\n",
       "      <th>2017.12.08</th>\n",
       "      <td>28850.0</td>\n",
       "      <td>1</td>\n",
       "      <td>28650.0</td>\n",
       "      <td>29600.0</td>\n",
       "      <td>26000.0</td>\n",
       "      <td>7793658.0</td>\n",
       "    </tr>\n",
       "    <tr>\n",
       "      <th>2017.12.08</th>\n",
       "      <td>28850.0</td>\n",
       "      <td>1</td>\n",
       "      <td>28650.0</td>\n",
       "      <td>29600.0</td>\n",
       "      <td>26000.0</td>\n",
       "      <td>7793658.0</td>\n",
       "    </tr>\n",
       "    <tr>\n",
       "      <th>2017.12.08</th>\n",
       "      <td>28850.0</td>\n",
       "      <td>1</td>\n",
       "      <td>28650.0</td>\n",
       "      <td>29600.0</td>\n",
       "      <td>26000.0</td>\n",
       "      <td>7793658.0</td>\n",
       "    </tr>\n",
       "  </tbody>\n",
       "</table>\n",
       "</div>"
      ],
      "text/plain": [
       "              close  diff    start     high      low     volume\n",
       "date                                                           \n",
       "2017.12.08  28850.0     1  28650.0  29600.0  26000.0  7793658.0\n",
       "2017.12.08  28850.0     1  28650.0  29600.0  26000.0  7793658.0\n",
       "2017.12.08  28850.0     1  28650.0  29600.0  26000.0  7793658.0\n",
       "2017.12.08  28850.0     1  28650.0  29600.0  26000.0  7793658.0\n",
       "2017.12.08  28850.0     1  28650.0  29600.0  26000.0  7793658.0"
      ]
     },
     "execution_count": 7,
     "metadata": {},
     "output_type": "execute_result"
    }
   ],
   "source": [
    "def up_down(x):\n",
    "    if x >= 0:\n",
    "        return 1\n",
    "    else :\n",
    "        return 0\n",
    "stock_data['diff'] = (stock_data['close'].shift(-1)-stock_data['close']).apply(up_down)\n",
    "\n",
    "stock_data.head()"
   ]
  },
  {
   "cell_type": "markdown",
   "metadata": {},
   "source": [
    "최종적으로 성능을 확인하기 위해 7:3 비율로 train데이터와 test데이터를 만들어 준다."
   ]
  },
  {
   "cell_type": "code",
   "execution_count": 8,
   "metadata": {},
   "outputs": [],
   "source": [
    "from sklearn.model_selection import train_test_split"
   ]
  },
  {
   "cell_type": "code",
   "execution_count": 9,
   "metadata": {},
   "outputs": [],
   "source": [
    "y = stock_data['diff'].iloc[:-1] # target인 dependent variable\n",
    "X = stock_data.drop('diff', axis=1) # independent variable\n",
    "today = X.iloc[-1]\n",
    "X = X.iloc[:-1]\n",
    "#주식데이터는 시간도 영향이 있어야 할 거 같은데.. 이문제는 딥러닝 LSTM밖에 생각이 안나네요. 일단 ㄱㄱ\n",
    "X_train, X_test, y_train, y_test = train_test_split(X, y, test_size = 0.3, shuffle=False )"
   ]
  },
  {
   "cell_type": "code",
   "execution_count": 10,
   "metadata": {},
   "outputs": [
    {
     "data": {
      "text/html": [
       "<div>\n",
       "<style scoped>\n",
       "    .dataframe tbody tr th:only-of-type {\n",
       "        vertical-align: middle;\n",
       "    }\n",
       "\n",
       "    .dataframe tbody tr th {\n",
       "        vertical-align: top;\n",
       "    }\n",
       "\n",
       "    .dataframe thead th {\n",
       "        text-align: right;\n",
       "    }\n",
       "</style>\n",
       "<table border=\"1\" class=\"dataframe\">\n",
       "  <thead>\n",
       "    <tr style=\"text-align: right;\">\n",
       "      <th></th>\n",
       "      <th>close</th>\n",
       "      <th>start</th>\n",
       "      <th>high</th>\n",
       "      <th>low</th>\n",
       "      <th>volume</th>\n",
       "    </tr>\n",
       "    <tr>\n",
       "      <th>date</th>\n",
       "      <th></th>\n",
       "      <th></th>\n",
       "      <th></th>\n",
       "      <th></th>\n",
       "      <th></th>\n",
       "    </tr>\n",
       "  </thead>\n",
       "  <tbody>\n",
       "    <tr>\n",
       "      <th>2017.12.08</th>\n",
       "      <td>28850.0</td>\n",
       "      <td>28650.0</td>\n",
       "      <td>29600.0</td>\n",
       "      <td>26000.0</td>\n",
       "      <td>7793658.0</td>\n",
       "    </tr>\n",
       "    <tr>\n",
       "      <th>2017.12.08</th>\n",
       "      <td>28850.0</td>\n",
       "      <td>28650.0</td>\n",
       "      <td>29600.0</td>\n",
       "      <td>26000.0</td>\n",
       "      <td>7793658.0</td>\n",
       "    </tr>\n",
       "    <tr>\n",
       "      <th>2017.12.08</th>\n",
       "      <td>28850.0</td>\n",
       "      <td>28650.0</td>\n",
       "      <td>29600.0</td>\n",
       "      <td>26000.0</td>\n",
       "      <td>7793658.0</td>\n",
       "    </tr>\n",
       "    <tr>\n",
       "      <th>2017.12.08</th>\n",
       "      <td>28850.0</td>\n",
       "      <td>28650.0</td>\n",
       "      <td>29600.0</td>\n",
       "      <td>26000.0</td>\n",
       "      <td>7793658.0</td>\n",
       "    </tr>\n",
       "    <tr>\n",
       "      <th>2017.12.08</th>\n",
       "      <td>28850.0</td>\n",
       "      <td>28650.0</td>\n",
       "      <td>29600.0</td>\n",
       "      <td>26000.0</td>\n",
       "      <td>7793658.0</td>\n",
       "    </tr>\n",
       "  </tbody>\n",
       "</table>\n",
       "</div>"
      ],
      "text/plain": [
       "              close    start     high      low     volume\n",
       "date                                                     \n",
       "2017.12.08  28850.0  28650.0  29600.0  26000.0  7793658.0\n",
       "2017.12.08  28850.0  28650.0  29600.0  26000.0  7793658.0\n",
       "2017.12.08  28850.0  28650.0  29600.0  26000.0  7793658.0\n",
       "2017.12.08  28850.0  28650.0  29600.0  26000.0  7793658.0\n",
       "2017.12.08  28850.0  28650.0  29600.0  26000.0  7793658.0"
      ]
     },
     "execution_count": 10,
     "metadata": {},
     "output_type": "execute_result"
    }
   ],
   "source": [
    "X_train.head()"
   ]
  },
  {
   "cell_type": "code",
   "execution_count": 11,
   "metadata": {},
   "outputs": [
    {
     "data": {
      "text/html": [
       "<div>\n",
       "<style scoped>\n",
       "    .dataframe tbody tr th:only-of-type {\n",
       "        vertical-align: middle;\n",
       "    }\n",
       "\n",
       "    .dataframe tbody tr th {\n",
       "        vertical-align: top;\n",
       "    }\n",
       "\n",
       "    .dataframe thead th {\n",
       "        text-align: right;\n",
       "    }\n",
       "</style>\n",
       "<table border=\"1\" class=\"dataframe\">\n",
       "  <thead>\n",
       "    <tr style=\"text-align: right;\">\n",
       "      <th></th>\n",
       "      <th>close</th>\n",
       "      <th>start</th>\n",
       "      <th>high</th>\n",
       "      <th>low</th>\n",
       "      <th>volume</th>\n",
       "    </tr>\n",
       "    <tr>\n",
       "      <th>date</th>\n",
       "      <th></th>\n",
       "      <th></th>\n",
       "      <th></th>\n",
       "      <th></th>\n",
       "      <th></th>\n",
       "    </tr>\n",
       "  </thead>\n",
       "  <tbody>\n",
       "    <tr>\n",
       "      <th>2017.12.18</th>\n",
       "      <td>26850.0</td>\n",
       "      <td>27250.0</td>\n",
       "      <td>27300.0</td>\n",
       "      <td>26550.0</td>\n",
       "      <td>210750.0</td>\n",
       "    </tr>\n",
       "    <tr>\n",
       "      <th>2017.12.18</th>\n",
       "      <td>26850.0</td>\n",
       "      <td>27250.0</td>\n",
       "      <td>27300.0</td>\n",
       "      <td>26550.0</td>\n",
       "      <td>210750.0</td>\n",
       "    </tr>\n",
       "    <tr>\n",
       "      <th>2017.12.18</th>\n",
       "      <td>26850.0</td>\n",
       "      <td>27250.0</td>\n",
       "      <td>27300.0</td>\n",
       "      <td>26550.0</td>\n",
       "      <td>210750.0</td>\n",
       "    </tr>\n",
       "    <tr>\n",
       "      <th>2017.12.18</th>\n",
       "      <td>26850.0</td>\n",
       "      <td>27250.0</td>\n",
       "      <td>27300.0</td>\n",
       "      <td>26550.0</td>\n",
       "      <td>210750.0</td>\n",
       "    </tr>\n",
       "    <tr>\n",
       "      <th>2017.12.18</th>\n",
       "      <td>26850.0</td>\n",
       "      <td>27250.0</td>\n",
       "      <td>27300.0</td>\n",
       "      <td>26550.0</td>\n",
       "      <td>210750.0</td>\n",
       "    </tr>\n",
       "  </tbody>\n",
       "</table>\n",
       "</div>"
      ],
      "text/plain": [
       "              close    start     high      low    volume\n",
       "date                                                    \n",
       "2017.12.18  26850.0  27250.0  27300.0  26550.0  210750.0\n",
       "2017.12.18  26850.0  27250.0  27300.0  26550.0  210750.0\n",
       "2017.12.18  26850.0  27250.0  27300.0  26550.0  210750.0\n",
       "2017.12.18  26850.0  27250.0  27300.0  26550.0  210750.0\n",
       "2017.12.18  26850.0  27250.0  27300.0  26550.0  210750.0"
      ]
     },
     "execution_count": 11,
     "metadata": {},
     "output_type": "execute_result"
    }
   ],
   "source": [
    "X_test.head()"
   ]
  },
  {
   "cell_type": "code",
   "execution_count": 12,
   "metadata": {},
   "outputs": [
    {
     "data": {
      "text/plain": [
       "date\n",
       "2017.12.08    1\n",
       "2017.12.08    1\n",
       "2017.12.08    1\n",
       "2017.12.08    1\n",
       "2017.12.08    1\n",
       "Name: diff, dtype: int64"
      ]
     },
     "execution_count": 12,
     "metadata": {},
     "output_type": "execute_result"
    }
   ],
   "source": [
    "y_train.head()"
   ]
  },
  {
   "cell_type": "code",
   "execution_count": 13,
   "metadata": {},
   "outputs": [],
   "source": [
    "# import matplotlib.pyplot as plt\n",
    "# import seaborn as sns\n",
    "\n",
    "# end start 데이터들의 왜도와 첨도 확인 및 히스토그램 그리기\n",
    "# f, ax = plt.subplots(1,2, figsize=(15,6))\n",
    "\n",
    "# columns = ['end', 'start']\n",
    "\n",
    "# count = 0\n",
    "# for row in range(2):\n",
    "#     sns.distplot(X_train[columns[count]], ax=ax[row])\n",
    "#     print(\"%s -> Skewness: %f, Kurtosis: %f\" %  (columns[count],X_train[columns[count]].skew(), \n",
    "#                                                      X_train[columns[count]].kurt()))\n",
    "#     count += 1"
   ]
  },
  {
   "cell_type": "code",
   "execution_count": 14,
   "metadata": {},
   "outputs": [],
   "source": [
    "# end start 데이터들의 왜도와 첨도 확인 및 히스토그램 그리기\n",
    "# f, ax = plt.subplots(1,3, figsize=(15,6))\n",
    "\n",
    "# columns = ['high','low','volume']\n",
    "\n",
    "# count = 0\n",
    "# for row in range(3):\n",
    "#     sns.distplot(X_train[columns[count]], ax=ax[row])\n",
    "#     print(\"%s -> Skewness: %f, Kurtosis: %f\" %  (columns[count],X_train[columns[count]].skew(), \n",
    "#                                                      X_train[columns[count]].kurt()))\n",
    "#     count += 1"
   ]
  },
  {
   "cell_type": "markdown",
   "metadata": {},
   "source": [
    "# 3. 모델링"
   ]
  },
  {
   "cell_type": "code",
   "execution_count": 15,
   "metadata": {},
   "outputs": [
    {
     "name": "stderr",
     "output_type": "stream",
     "text": [
      "D:\\Users\\WIN10\\Anaconda3\\envs\\python3.5\\lib\\site-packages\\sklearn\\ensemble\\weight_boosting.py:29: DeprecationWarning: numpy.core.umath_tests is an internal NumPy module and should not be imported. It will be removed in a future NumPy release.\n",
      "  from numpy.core.umath_tests import inner1d\n"
     ]
    }
   ],
   "source": [
    "# Importing Classifier Modules\n",
    "from sklearn.linear_model import LogisticRegression\n",
    "from sklearn.neighbors import KNeighborsClassifier\n",
    "from sklearn.tree import DecisionTreeClassifier\n",
    "from sklearn.ensemble import RandomForestClassifier\n",
    "from sklearn.naive_bayes import GaussianNB\n",
    "from sklearn.svm import SVC"
   ]
  },
  {
   "cell_type": "code",
   "execution_count": 16,
   "metadata": {},
   "outputs": [],
   "source": [
    "#cross_validation\n",
    "from sklearn.model_selection import KFold\n",
    "from sklearn.model_selection import cross_val_score\n",
    "\n",
    "#cross_val_score에서 분류모형의 scoring은 accuracy이다.\n",
    "kfold = KFold(n_splits = 5, shuffle = True, random_state = 42)\n",
    "\n",
    "Logistic = LogisticRegression()\n",
    "KNN = KNeighborsClassifier()\n",
    "DeicisonTree = DecisionTreeClassifier()\n",
    "RandomForest = RandomForestClassifier()\n",
    "NaiveBayes = GaussianNB()\n",
    "SVM = SVC()\n",
    "\n",
    "models = [{'name' : 'Logistic', 'model' : Logistic}, {'name' : 'KNN', 'model' : KNN},\n",
    "        {'name' : 'DeicisonTree', 'model' : DeicisonTree}, {'name' : 'RandomForest', 'model' : RandomForest},\n",
    "        {'name' : 'NaiveBayes', 'model' : NaiveBayes}, {'name' : 'SVM', 'model' : SVM}]\n",
    "\n",
    "def cv_accuracy(models):\n",
    "    for m in models:\n",
    "        print(\"Model {} CV score : {:.4f}\".format(m['name'], \n",
    "                                                  np.mean(cross_val_score(m['model'], \n",
    "                                                                          X_train, y_train, cv=kfold))))\n",
    "    "
   ]
  },
  {
   "cell_type": "code",
   "execution_count": 17,
   "metadata": {},
   "outputs": [
    {
     "name": "stdout",
     "output_type": "stream",
     "text": [
      "Model Logistic CV score : 0.9984\n",
      "Model KNN CV score : 0.9984\n",
      "Model DeicisonTree CV score : 0.9984\n",
      "Model RandomForest CV score : 0.9984\n",
      "Model NaiveBayes CV score : 0.9155\n",
      "Model SVM CV score : 0.9984\n"
     ]
    }
   ],
   "source": [
    "cv_accuracy(models)"
   ]
  },
  {
   "cell_type": "markdown",
   "metadata": {},
   "source": [
    "LogisticRegression이 제일 성능이 좋으므로 최종 모델로 선택"
   ]
  },
  {
   "cell_type": "code",
   "execution_count": 18,
   "metadata": {
    "scrolled": true
   },
   "outputs": [
    {
     "name": "stdout",
     "output_type": "stream",
     "text": [
      "LogisticRegression(C=1.0, class_weight=None, dual=False, fit_intercept=True,\n",
      "          intercept_scaling=1, max_iter=100, multi_class='ovr', n_jobs=1,\n",
      "          penalty='l2', random_state=None, solver='liblinear', tol=0.0001,\n",
      "          verbose=0, warm_start=False)\n",
      "             precision    recall  f1-score   support\n",
      "\n",
      "          0       1.00      0.01      0.01       169\n",
      "          1       0.85      1.00      0.92       921\n",
      "\n",
      "avg / total       0.87      0.85      0.78      1090\n",
      "\n",
      "[[  1 168]\n",
      " [  0 921]]\n"
     ]
    }
   ],
   "source": [
    "from sklearn import datasets\n",
    "from sklearn import metrics\n",
    "\n",
    "model = Logistic\n",
    "model.fit(X_train, y_train)\n",
    "print (model)\n",
    "\n",
    "predicted = model.predict(X_test)\n",
    "\n",
    "#Accuracy : 전체 샘플 중 맞게 예측한 샘플수의 비율\n",
    "#Precision(정밀도) : postive라고 예측한 것 중에서 실제 postive인 것\n",
    "#Recall(재현율) : 실제 postive중에 예측한 postive 비율\n",
    "print (metrics.classification_report(y_test, predicted))\n",
    "\n",
    "#confusion_matrix에서\n",
    "#행은 실제값, 열은 예측한 값으로 0 1 순서대로 임\n",
    "print (metrics.confusion_matrix (y_test, predicted))"
   ]
  },
  {
   "cell_type": "markdown",
   "metadata": {},
   "source": [
    "# 문제점\n",
    "---------version1 04/22--------------\n",
    "* 주가는 시간에 따라 변화도 생각해봐야함. \n",
    "* 기술적 분석뿐만 아닌 다른 영향들에 대한 feature도 도입해보아야함.\n",
    "* 머신러닝은 예측할 때 학습한 feature도 똑같이필요하므로 지금의 데이터는 하루가 끝이나야 얻을 수 있는 데이터로 미래를 예측하기에 적합하지 않은 feature들이다.(ver2에서 수정)\n",
    "* 전날의 종가, 시가, 거래량, 고가, 저가로 오늘의 시가 또는 종가를 예측할 수 있을까라는 의문 (ver2에서 수정)\n",
    "\n",
    "---------version2 04/29--------------\n",
    "* train과 test데이터를 나눌때 과연 랜덤으로 나누는 것이 더 좋을 지 시간의 순서에 맞게 셔플하지 않고 나누는 것이 더 좋을지 확인\n",
    "* 현재 오늘의 시가, 종가, 거개량, 고가, 저가로 내일의 종가는 오를것인지 내릴것인지 예측하는 모델로 구현\n",
    "* 성능이 50%로 그냥 싹다 1로 한거임."
   ]
  },
  {
   "cell_type": "markdown",
   "metadata": {},
   "source": [
    "# 오늘의 종가 예측 (오를 것인가? 내릴 것인가?)"
   ]
  },
  {
   "cell_type": "code",
   "execution_count": 19,
   "metadata": {},
   "outputs": [
    {
     "data": {
      "text/plain": [
       "array([1, 1, 1, 1, 1, 1, 1, 1, 1, 1, 1, 1, 1, 1, 1], dtype=int64)"
      ]
     },
     "execution_count": 19,
     "metadata": {},
     "output_type": "execute_result"
    }
   ],
   "source": [
    "#예측한 모델의 마지막값 도출 -> 즉 어제의 데이터로인해 내일의 종가가 오를 것인지 내릴 것인지?\n",
    "predicted[-15:]"
   ]
  },
  {
   "cell_type": "code",
   "execution_count": 20,
   "metadata": {},
   "outputs": [
    {
     "data": {
      "text/plain": [
       "1090"
      ]
     },
     "execution_count": 20,
     "metadata": {},
     "output_type": "execute_result"
    }
   ],
   "source": [
    "len(predicted)"
   ]
  },
  {
   "cell_type": "markdown",
   "metadata": {},
   "source": [
    "종가가 오를 것이라고 예측"
   ]
  },
  {
   "cell_type": "code",
   "execution_count": 21,
   "metadata": {},
   "outputs": [
    {
     "data": {
      "text/plain": [
       "close      24700.0\n",
       "start      24550.0\n",
       "high       25150.0\n",
       "low        24450.0\n",
       "volume    136974.0\n",
       "Name: 2019.04.30, dtype: float64"
      ]
     },
     "execution_count": 21,
     "metadata": {},
     "output_type": "execute_result"
    }
   ],
   "source": [
    "#오늘데이터\n",
    "today"
   ]
  },
  {
   "cell_type": "code",
   "execution_count": 22,
   "metadata": {},
   "outputs": [
    {
     "data": {
      "text/plain": [
       "close      24500.0\n",
       "start      24800.0\n",
       "high       25600.0\n",
       "low        24400.0\n",
       "volume    261269.0\n",
       "Name: 2019.04.29, dtype: float64"
      ]
     },
     "execution_count": 22,
     "metadata": {},
     "output_type": "execute_result"
    }
   ],
   "source": [
    "#전날의 데이터\n",
    "X_test.iloc[-1]"
   ]
  },
  {
   "cell_type": "markdown",
   "metadata": {},
   "source": [
    "주가가 상승했음을 예측하였음"
   ]
  },
  {
   "cell_type": "code",
   "execution_count": 23,
   "metadata": {},
   "outputs": [
    {
     "data": {
      "text/plain": [
       "array([1], dtype=int64)"
      ]
     },
     "execution_count": 23,
     "metadata": {},
     "output_type": "execute_result"
    }
   ],
   "source": [
    "model.predict(pd.DataFrame(today).T)"
   ]
  },
  {
   "cell_type": "markdown",
   "metadata": {},
   "source": [
    "# 그래프 그리기"
   ]
  },
  {
   "cell_type": "code",
   "execution_count": 24,
   "metadata": {},
   "outputs": [],
   "source": [
    "import matplotlib.pyplot as plt\n",
    "import seaborn as sns"
   ]
  },
  {
   "cell_type": "code",
   "execution_count": 25,
   "metadata": {},
   "outputs": [],
   "source": [
    "predict_data = pd.concat([X_test.reset_index(), pd.DataFrame(predicted, columns=['prediction'])], axis=1)\n",
    "predict_data = predict_data.set_index('date')"
   ]
  },
  {
   "cell_type": "code",
   "execution_count": null,
   "metadata": {},
   "outputs": [],
   "source": [
    "test_data = pd.concat([X_test, pd.DataFrame(y_test)], axis=1)\n",
    "test_data.head()"
   ]
  },
  {
   "cell_type": "code",
   "execution_count": null,
   "metadata": {},
   "outputs": [],
   "source": [
    "test_data.head()"
   ]
  },
  {
   "cell_type": "code",
   "execution_count": null,
   "metadata": {},
   "outputs": [],
   "source": []
  }
 ],
 "metadata": {
  "kernelspec": {
   "display_name": "Python3.5",
   "language": "python",
   "name": "python3.5"
  },
  "language_info": {
   "codemirror_mode": {
    "name": "ipython",
    "version": 3
   },
   "file_extension": ".py",
   "mimetype": "text/x-python",
   "name": "python",
   "nbconvert_exporter": "python",
   "pygments_lexer": "ipython3",
   "version": "3.5.5"
  }
 },
 "nbformat": 4,
 "nbformat_minor": 2
}
